{
  "cells": [
    {
      "cell_type": "code",
      "execution_count": 1,
      "metadata": {
        "id": "iQjUN2EIz2Ld"
      },
      "outputs": [],
      "source": [
        "from keras_facenet import FaceNet\n",
        "\n",
        "from mtcnn.mtcnn import MTCNN\n",
        "\n",
        "from sklearn.metrics.pairwise import cosine_similarity\n",
        "\n",
        "from PIL import Image,ImageDraw\n",
        "import cv2\n",
        "import numpy as np\n",
        "import matplotlib.pyplot as plt\n",
        "\n",
        "import os"
      ]
    },
    {
      "cell_type": "code",
      "execution_count": 2,
      "metadata": {
        "id": "O-iSMqZV2TVr"
      },
      "outputs": [],
      "source": [
        "embedder = FaceNet()\n",
        "detector = MTCNN()"
      ]
    },
    {
      "cell_type": "code",
      "execution_count": 3,
      "metadata": {
        "id": "VMZILjpb4858"
      },
      "outputs": [],
      "source": [
        "def extraction_keras_lock(*file_name,show=None):\n",
        "  if type(file_name) is tuple:\n",
        "    file_name = [*file_name,]\n",
        "  result = []\n",
        "  for i in file_name:\n",
        "    image = Image.open(i).convert('RGB')\n",
        "    im_arr = np.array(image)\n",
        "    N=0\n",
        "    faces = detector.detect_faces(im_arr)\n",
        "    x1,y1,width,height = faces[N]['box'] # faces[N]['box']\n",
        "    x2,y2 = (x1+width),(y1+height)\n",
        "    face = im_arr[y1:y2,x1:x2] # ตัดเอาเฉพาะใบหน้า\n",
        "    image_face = Image.fromarray(face)\n",
        "    image_face= image_face.resize((128,128))\n",
        "    if show:\n",
        "      image_face.show()\n",
        "    face_img = np.array(image_face).reshape(-1,128,128,3)\n",
        "    result.append(embedder.embeddings(face_img))\n",
        "\n",
        "  return result"
      ]
    },
    {
      "cell_type": "code",
      "execution_count": 4,
      "metadata": {},
      "outputs": [],
      "source": [
        "def visual_multi(path_file):\n",
        "\n",
        "  nplots = sorted(os.listdir(path_file))\n",
        "  fig = plt.figure(figsize=(8,4))\n",
        "  for j in range(len(nplots)):\n",
        "    # print(path_file+nplots[j])\n",
        "    img = cv2.resize(cv2.imread(path_file+nplots[j]),(224,224))\n",
        "    image_rgb = cv2.cvtColor(img, cv2.COLOR_BGR2RGB)\n",
        "    plt.subplot(4,10,j+1)\n",
        "    plt.imshow(image_rgb)\n",
        "    plt.title(j)\n",
        "    plt.xticks([]);plt.yticks([])\n",
        "  plt.show()"
      ]
    },
    {
      "cell_type": "code",
      "execution_count": 5,
      "metadata": {
        "id": "VfcCayjSm1vE"
      },
      "outputs": [],
      "source": [
        "def extraction_keras_all(file_name,show=None): # take embeddings, and position\n",
        "  position_crop = []\n",
        "  embedding_faces = []\n",
        "  position = []\n",
        "  image = Image.open(file_name).convert('RGB')\n",
        "  im_arr = np.array(image)\n",
        "  faces = detector.detect_faces(im_arr,)\n",
        "\n",
        "  for i in faces:\n",
        "    x1,y1,width,height = i['box']\n",
        "    x2,y2 = (x1+width),(y1+height)\n",
        "    position_crop.append([y1,y2,x1,x2])\n",
        "    position.append([x1,y1,x2,y2])\n",
        "    # print(i['box'])\n",
        "\n",
        "  index_image = 0\n",
        "  for i in position_crop:\n",
        "    face = im_arr[i[0]:i[1],i[2]:i[3]]\n",
        "    image_face = Image.fromarray(face)\n",
        "    image_face = image_face.resize((224,224))\n",
        "    faces_crops = np.array(image_face).reshape(-1,224,224,3)\n",
        "    embedding_faces.append(embedder.embeddings(faces_crops))\n",
        "    index_image+=1\n",
        "    path = r'C:\\Users\\Raum\\Desktop\\jec\\code\\image_lock\\lock_face_{}.jpg'.format(index_image) # path for collect images\n",
        "    image_face.save(path)\n",
        "    \n",
        "    if show:\n",
        "      image_face.show()\n",
        "  visual_multi(r'C:\\Users\\Raum\\Desktop\\jec\\code\\image_lock\\\\')\n",
        "  \n",
        "\n",
        "  return embedding_faces,position"
      ]
    },
    {
      "cell_type": "code",
      "execution_count": 29,
      "metadata": {
        "colab": {
          "base_uri": "https://localhost:8080/"
        },
        "id": "b1fIBcRD0_cq",
        "outputId": "0d0fdcd7-0e40-4099-842e-89d027edc0c8"
      },
      "outputs": [
        {
          "name": "stdout",
          "output_type": "stream",
          "text": [
            "1/1 [==============================] - 0s 61ms/step\n"
          ]
        }
      ],
      "source": [
        "f = r'C:\\Users\\Raum\\Desktop\\jec\\code\\dataface\\avenger.jpg'\n",
        "t = r'C:\\Users\\Raum\\Desktop\\jec\\code\\dataface\\thor.jpg'\n",
        "m = r'C:\\Users\\Raum\\Desktop\\jec\\code\\dataface\\dogmeme.png'\n",
        "# embedding_faces,position=extraction_keras_all(f) # lock by self-image\n",
        "lock_face = extraction_keras_lock(t) # lock by another image\n",
        "# img,va = plot_result(f,m,[2,3,5],embedding_faces,position)\n",
        "# img,va = plot_result(f,m,lock_face,embedding_faces,position)"
      ]
    },
    {
      "cell_type": "code",
      "execution_count": 13,
      "metadata": {},
      "outputs": [],
      "source": [
        "# lock_face[0]"
      ]
    },
    {
      "cell_type": "code",
      "execution_count": 36,
      "metadata": {
        "colab": {
          "base_uri": "https://localhost:8080/",
          "height": 587
        },
        "id": "qgiohPo16A-F",
        "outputId": "b693af72-268a-48b3-ea49-485895259935"
      },
      "outputs": [
        {
          "name": "stdout",
          "output_type": "stream",
          "text": [
            "heloo\n",
            "heloo\n",
            "heloo\n",
            "heloo\n",
            "heloo\n",
            "heloo\n",
            "heloo\n",
            "heloo\n",
            "heloo\n"
          ]
        }
      ],
      "source": [
        "# img,va = plot_result(f,m,[0,6,8],embedding_faces,position)\n",
        "\n",
        "img,va = plot_result(f,m,lock_face,embedding_faces,position,False)\n",
        "img.show()\n",
        "# plot_box(f,position)"
      ]
    },
    {
      "cell_type": "code",
      "execution_count": 73,
      "metadata": {},
      "outputs": [
        {
          "name": "stdout",
          "output_type": "stream",
          "text": [
            "1/1 [==============================] - 0s 58ms/step\n",
            "1/1 [==============================] - 0s 62ms/step\n",
            "1/1 [==============================] - 0s 63ms/step\n",
            "1/1 [==============================] - 0s 63ms/step\n",
            "1/1 [==============================] - 0s 61ms/step\n"
          ]
        },
        {
          "data": {
            "image/png": "[encoded data removed]",
            "text/plain": [
              "<Figure size 800x400 with 5 Axes>"
            ]
          },
          "metadata": {},
          "output_type": "display_data"
        }
      ],
      "source": [
        "f = r'C:\\Users\\Raum\\Desktop\\jec\\code\\dataface\\superman4.jpg'\n",
        "m = r'C:\\Users\\Raum\\Desktop\\jec\\code\\dataface\\memewoman.png'\n",
        "embedding_faces,position=extraction_keras_all(f) # lock by self-image"
      ]
    },
    {
      "cell_type": "code",
      "execution_count": 74,
      "metadata": {},
      "outputs": [],
      "source": [
        "img,va = plot_result(f,m,[0,2],embedding_faces,position)\n",
        "img.show()"
      ]
    },
    {
      "cell_type": "markdown",
      "metadata": {},
      "source": []
    },
    {
      "cell_type": "code",
      "execution_count": 88,
      "metadata": {
        "colab": {
          "base_uri": "https://localhost:8080/"
        },
        "id": "yC6ZoG0V3mLb",
        "outputId": "35be6c69-f7a0-4095-d5ed-d9968a1d29d1"
      },
      "outputs": [
        {
          "name": "stdout",
          "output_type": "stream",
          "text": [
            "1/1 [==============================] - 0s 159ms/step\n",
            "1/1 [==============================] - 0s 74ms/step\n",
            "1/1 [==============================] - 0s 54ms/step\n",
            "1/1 [==============================] - 0s 37ms/step\n",
            "1/1 [==============================] - 0s 29ms/step\n",
            "1/1 [==============================] - 0s 24ms/step\n",
            "1/1 [==============================] - 0s 22ms/step\n",
            "1/1 [==============================] - 0s 23ms/step\n",
            "1/1 [==============================] - 0s 26ms/step\n",
            "1/1 [==============================] - 0s 21ms/step\n",
            "1/1 [==============================] - 0s 22ms/step\n",
            "1/1 [==============================] - 0s 28ms/step\n",
            "1/1 [==============================] - 0s 20ms/step\n",
            "45/45 [==============================] - 0s 6ms/step\n",
            "2/2 [==============================] - 0s 20ms/step\n",
            "1/1 [==============================] - 0s 63ms/step\n",
            "1/1 [==============================] - 0s 63ms/step\n",
            "1/1 [==============================] - 0s 60ms/step\n",
            "1/1 [==============================] - 0s 60ms/step\n",
            "1/1 [==============================] - 0s 61ms/step\n",
            "1/1 [==============================] - 0s 33ms/step\n",
            "1/1 [==============================] - 0s 28ms/step\n",
            "1/1 [==============================] - 0s 26ms/step\n",
            "1/1 [==============================] - 0s 21ms/step\n",
            "1/1 [==============================] - 0s 20ms/step\n",
            "1/1 [==============================] - 0s 19ms/step\n",
            "1/1 [==============================] - 0s 18ms/step\n",
            "1/1 [==============================] - 0s 19ms/step\n",
            "1/1 [==============================] - 0s 19ms/step\n",
            "1/1 [==============================] - 0s 18ms/step\n",
            "3/3 [==============================] - 0s 5ms/step\n",
            "1/1 [==============================] - 0s 24ms/step\n",
            "1/1 [==============================] - 0s 60ms/step\n",
            "1/1 [==============================] - 0s 49ms/step\n",
            "1/1 [==============================] - 0s 35ms/step\n",
            "1/1 [==============================] - 0s 29ms/step\n",
            "1/1 [==============================] - 0s 24ms/step\n",
            "1/1 [==============================] - 0s 22ms/step\n",
            "1/1 [==============================] - 0s 23ms/step\n",
            "1/1 [==============================] - 0s 21ms/step\n",
            "1/1 [==============================] - 0s 21ms/step\n",
            "1/1 [==============================] - 0s 21ms/step\n",
            "1/1 [==============================] - 0s 21ms/step\n",
            "1/1 [==============================] - 0s 21ms/step\n",
            "5/5 [==============================] - 0s 7ms/step\n",
            "1/1 [==============================] - 0s 34ms/step\n",
            "1/1 [==============================] - 0s 63ms/step\n"
          ]
        }
      ],
      "source": [
        "f = r'C:\\Users\\Raum\\Desktop\\jec\\code\\dataface\\superman4.jpg'\n",
        "t = r'C:\\Users\\Raum\\Desktop\\jec\\code\\dataface\\superman1.jpg',r'C:\\Users\\Raum\\Desktop\\jec\\code\\dataface\\wonder.jpg'\n",
        "m = r'C:\\Users\\Raum\\Desktop\\jec\\code\\dataface\\dogmeme.png'\n",
        "embedding_faces,position=extraction_keras2(f)\n",
        "lock_face =extraction_keras(*t)\n",
        "img,va = plot_result(f,m,lock_face,embedding_faces,position)"
      ]
    },
    {
      "cell_type": "code",
      "execution_count": 83,
      "metadata": {
        "colab": {
          "base_uri": "https://localhost:8080/",
          "height": 782
        },
        "id": "fkisO4rP5ivL",
        "outputId": "17dac931-dbbf-4d24-9bca-d30ba84ff139"
      },
      "outputs": [],
      "source": [
        "img.show()\n",
        "# plot_box(f,position)"
      ]
    },
    {
      "cell_type": "code",
      "execution_count": 9,
      "metadata": {},
      "outputs": [
        {
          "name": "stdout",
          "output_type": "stream",
          "text": [
            "1/1 [==============================] - 0s 50ms/step\n",
            "1/1 [==============================] - 0s 39ms/step\n",
            "1/1 [==============================] - 0s 29ms/step\n",
            "1/1 [==============================] - 0s 26ms/step\n",
            "1/1 [==============================] - 0s 22ms/step\n",
            "1/1 [==============================] - 0s 22ms/step\n",
            "1/1 [==============================] - 0s 22ms/step\n",
            "1/1 [==============================] - 0s 21ms/step\n",
            "1/1 [==============================] - 0s 21ms/step\n",
            "1/1 [==============================] - 0s 20ms/step\n",
            "1/1 [==============================] - 0s 20ms/step\n",
            "19/19 [==============================] - 0s 6ms/step\n",
            "3/3 [==============================] - 0s 20ms/step\n",
            "1/1 [==============================] - 0s 60ms/step\n",
            "1/1 [==============================] - 0s 60ms/step\n",
            "1/1 [==============================] - 0s 61ms/step\n",
            "1/1 [==============================] - 0s 61ms/step\n",
            "1/1 [==============================] - 0s 60ms/step\n",
            "1/1 [==============================] - 0s 58ms/step\n",
            "1/1 [==============================] - 0s 59ms/step\n",
            "1/1 [==============================] - 0s 59ms/step\n",
            "1/1 [==============================] - 0s 60ms/step\n",
            "1/1 [==============================] - 0s 62ms/step\n",
            "1/1 [==============================] - 0s 57ms/step\n",
            "1/1 [==============================] - 0s 58ms/step\n",
            "1/1 [==============================] - 0s 59ms/step\n",
            "1/1 [==============================] - 0s 98ms/step\n",
            "1/1 [==============================] - 0s 57ms/step\n",
            "1/1 [==============================] - 0s 42ms/step\n",
            "1/1 [==============================] - 0s 36ms/step\n",
            "1/1 [==============================] - 0s 28ms/step\n",
            "1/1 [==============================] - 0s 26ms/step\n",
            "1/1 [==============================] - 0s 21ms/step\n",
            "1/1 [==============================] - 0s 20ms/step\n",
            "1/1 [==============================] - 0s 20ms/step\n",
            "1/1 [==============================] - 0s 23ms/step\n",
            "1/1 [==============================] - 0s 22ms/step\n",
            "1/1 [==============================] - 0s 22ms/step\n",
            "3/3 [==============================] - 0s 6ms/step\n",
            "1/1 [==============================] - 0s 24ms/step\n",
            "1/1 [==============================] - 0s 59ms/step\n",
            "1/1 [==============================] - 0s 44ms/step\n",
            "1/1 [==============================] - 0s 34ms/step\n",
            "1/1 [==============================] - 0s 30ms/step\n",
            "1/1 [==============================] - 0s 24ms/step\n",
            "1/1 [==============================] - 0s 22ms/step\n",
            "1/1 [==============================] - 0s 20ms/step\n",
            "1/1 [==============================] - 0s 20ms/step\n",
            "1/1 [==============================] - 0s 20ms/step\n",
            "1/1 [==============================] - 0s 19ms/step\n",
            "1/1 [==============================] - 0s 19ms/step\n",
            "5/5 [==============================] - 0s 6ms/step\n",
            "1/1 [==============================] - 0s 28ms/step\n",
            "1/1 [==============================] - 0s 61ms/step\n",
            "1/1 [==============================] - 0s 54ms/step\n",
            "1/1 [==============================] - 0s 38ms/step\n",
            "1/1 [==============================] - 0s 35ms/step\n",
            "1/1 [==============================] - 0s 28ms/step\n",
            "1/1 [==============================] - 0s 26ms/step\n",
            "1/1 [==============================] - 0s 22ms/step\n",
            "1/1 [==============================] - 0s 21ms/step\n",
            "1/1 [==============================] - 0s 19ms/step\n",
            "1/1 [==============================] - 0s 20ms/step\n",
            "1/1 [==============================] - 0s 22ms/step\n",
            "1/1 [==============================] - 0s 21ms/step\n",
            "3/3 [==============================] - 0s 6ms/step\n",
            "1/1 [==============================] - 0s 28ms/step\n",
            "1/1 [==============================] - 0s 65ms/step\n"
          ]
        }
      ],
      "source": [
        "i = r'C:\\Users\\Raum\\Desktop\\jec\\code\\dataface\\pitha.jpg'\n",
        "t = r'C:\\Users\\Raum\\Desktop\\jec\\code\\dataface\\Pita.jpg',r'C:\\Users\\Raum\\Desktop\\jec\\code\\dataface\\siri.jpg',r'C:\\Users\\Raum\\Desktop\\jec\\code\\dataface\\chai.jpg'\n",
        "f = r'C:\\Users\\Raum\\Desktop\\jec\\code\\dataface\\memeface.png'\n",
        "embedding_faces,position=extraction_keras2(i)\n",
        "lock_face =extraction_keras(*t)\n",
        "img,va = plot_result(i,f,lock_face,embedding_faces,position)"
      ]
    },
    {
      "cell_type": "code",
      "execution_count": 10,
      "metadata": {},
      "outputs": [],
      "source": [
        "img.show()\n",
        "plot_box(i,position)"
      ]
    },
    {
      "cell_type": "code",
      "execution_count": 6,
      "metadata": {},
      "outputs": [
        {
          "name": "stdout",
          "output_type": "stream",
          "text": [
            "1/1 [==============================] - 0s 195ms/step\n",
            "1/1 [==============================] - 0s 118ms/step\n",
            "1/1 [==============================] - 0s 41ms/step\n",
            "1/1 [==============================] - 0s 33ms/step\n",
            "1/1 [==============================] - 0s 29ms/step\n",
            "1/1 [==============================] - 0s 24ms/step\n",
            "1/1 [==============================] - 0s 22ms/step\n",
            "1/1 [==============================] - 0s 22ms/step\n",
            "1/1 [==============================] - 0s 20ms/step\n",
            "1/1 [==============================] - 0s 23ms/step\n",
            "1/1 [==============================] - 0s 21ms/step\n",
            "1/1 [==============================] - 0s 21ms/step\n",
            "3/3 [==============================] - 0s 4ms/step\n",
            "1/1 [==============================] - 0s 118ms/step\n",
            "1/1 [==============================] - 2s 2s/step\n",
            "1/1 [==============================] - 0s 86ms/step\n",
            "1/1 [==============================] - 0s 55ms/step\n",
            "1/1 [==============================] - 0s 38ms/step\n",
            "1/1 [==============================] - 0s 31ms/step\n",
            "1/1 [==============================] - 0s 27ms/step\n",
            "1/1 [==============================] - 0s 24ms/step\n",
            "1/1 [==============================] - 0s 21ms/step\n",
            "1/1 [==============================] - 0s 21ms/step\n",
            "1/1 [==============================] - 0s 21ms/step\n",
            "1/1 [==============================] - 0s 21ms/step\n",
            "1/1 [==============================] - 0s 21ms/step\n",
            "1/1 [==============================] - 0s 20ms/step\n",
            "4/4 [==============================] - 0s 5ms/step\n",
            "1/1 [==============================] - 0s 22ms/step\n",
            "1/1 [==============================] - 0s 58ms/step\n"
          ]
        }
      ],
      "source": [
        "i = r'C:\\Users\\Raum\\Desktop\\jec\\code\\videos\\frame_199.jpg'\n",
        "t = r'C:\\Users\\Raum\\Desktop\\jec\\code\\dataface\\lock_f2.png'\n",
        "f = r'C:\\Users\\Raum\\Desktop\\jec\\code\\dataface\\memeface.png'\n",
        "embedding_faces,position=extraction_keras2(i)\n",
        "lock_face =extraction_keras(t)\n",
        "img,va = plot_result(i,f,lock_face,embedding_faces,position)\n",
        "img.show()\n",
        "plot_box(f,position)"
      ]
    }
  ],
  "metadata": {
    "accelerator": "GPU",
    "colab": {
      "gpuType": "T4",
      "provenance": []
    },
    "kernelspec": {
      "display_name": "Python 3",
      "name": "python3"
    },
    "language_info": {
      "codemirror_mode": {
        "name": "ipython",
        "version": 3
      },
      "file_extension": ".py",
      "mimetype": "text/x-python",
      "name": "python",
      "nbconvert_exporter": "python",
      "pygments_lexer": "ipython3",
      "version": "3.10.6"
    }
  },
  "nbformat": 4,
  "nbformat_minor": 0
}
